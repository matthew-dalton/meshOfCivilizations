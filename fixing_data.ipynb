{
 "cells": [
  {
   "cell_type": "code",
   "execution_count": 10,
   "metadata": {},
   "outputs": [],
   "source": [
    "import pandas as pd"
   ]
  },
  {
   "cell_type": "code",
   "execution_count": 11,
   "metadata": {},
   "outputs": [
    {
     "data": {
      "text/html": [
       "<div>\n",
       "<style scoped>\n",
       "    .dataframe tbody tr th:only-of-type {\n",
       "        vertical-align: middle;\n",
       "    }\n",
       "\n",
       "    .dataframe tbody tr th {\n",
       "        vertical-align: top;\n",
       "    }\n",
       "\n",
       "    .dataframe thead th {\n",
       "        text-align: right;\n",
       "    }\n",
       "</style>\n",
       "<table border=\"1\" class=\"dataframe\">\n",
       "  <thead>\n",
       "    <tr style=\"text-align: right;\">\n",
       "      <th></th>\n",
       "      <th>Name</th>\n",
       "      <th>Code</th>\n",
       "    </tr>\n",
       "  </thead>\n",
       "  <tbody>\n",
       "    <tr>\n",
       "      <th>0</th>\n",
       "      <td>Afghanistan</td>\n",
       "      <td>AF</td>\n",
       "    </tr>\n",
       "    <tr>\n",
       "      <th>1</th>\n",
       "      <td>Ã…land Islands</td>\n",
       "      <td>AX</td>\n",
       "    </tr>\n",
       "    <tr>\n",
       "      <th>2</th>\n",
       "      <td>Albania</td>\n",
       "      <td>AL</td>\n",
       "    </tr>\n",
       "    <tr>\n",
       "      <th>3</th>\n",
       "      <td>Algeria</td>\n",
       "      <td>DZ</td>\n",
       "    </tr>\n",
       "    <tr>\n",
       "      <th>4</th>\n",
       "      <td>American Samoa</td>\n",
       "      <td>AS</td>\n",
       "    </tr>\n",
       "  </tbody>\n",
       "</table>\n",
       "</div>"
      ],
      "text/plain": [
       "             Name Code\n",
       "0     Afghanistan   AF\n",
       "1  Ã…land Islands   AX\n",
       "2         Albania   AL\n",
       "3         Algeria   DZ\n",
       "4  American Samoa   AS"
      ]
     },
     "execution_count": 11,
     "metadata": {},
     "output_type": "execute_result"
    }
   ],
   "source": [
    "codes = pd.read_csv('data/codes.csv')\n",
    "df = pd.read_csv('data/dij_joint_civ.csv')\n",
    "codes.head()"
   ]
  },
  {
   "cell_type": "code",
   "execution_count": 12,
   "metadata": {},
   "outputs": [],
   "source": [
    "country_codes_in_codes = set(codes['Code'])\n",
    "country_codes_in_df = set(df['i'])"
   ]
  },
  {
   "cell_type": "code",
   "execution_count": 13,
   "metadata": {},
   "outputs": [
    {
     "name": "stdout",
     "output_type": "stream",
     "text": [
      "set()\n"
     ]
    }
   ],
   "source": [
    "print(country_codes_in_df - country_codes_in_codes) # all there!"
   ]
  },
  {
   "cell_type": "code",
   "execution_count": 14,
   "metadata": {},
   "outputs": [
    {
     "name": "stdout",
     "output_type": "stream",
     "text": [
      "appnope==0.1.0\n",
      "argon2-cffi @ file:///private/tmp/jupyterlab--argon2-cffi-20201109-55879-fd1k0d/argon2-cffi-20.1.0\n",
      "async-generator==1.10\n",
      "attrs @ file:///private/tmp/jupyterlab--attrs-20201109-55879-ioob7p/attrs-20.2.0\n",
      "backcall @ file:///private/tmp/jupyterlab--backcall-20201109-55879-dexhah/backcall-0.2.0\n",
      "bleach==3.2.1\n",
      "certifi==2020.6.20\n",
      "cffi==1.14.3\n",
      "chardet==3.0.4\n",
      "cycler==0.10.0\n",
      "decorator==4.4.2\n",
      "defusedxml==0.6.0\n",
      "entrypoints @ file:///private/tmp/jupyterlab--entrypoints-20201109-55879-a6xx2g/entrypoints-0.3\n",
      "idna==2.10\n",
      "ipykernel==5.3.4\n",
      "ipython==7.18.1\n",
      "ipython-genutils==0.2.0\n",
      "jedi==0.17.2\n",
      "Jinja2==2.11.2\n",
      "json5==0.9.5\n",
      "jsonschema @ file:///private/tmp/jupyterlab--jsonschema-20201109-55879-1ojfg5c/jsonschema-3.2.0\n",
      "jupyter-client==6.1.7\n",
      "jupyter-console==6.2.0\n",
      "jupyter-core==4.6.3\n",
      "jupyterlab==2.2.9\n",
      "jupyterlab-pygments==0.1.2\n",
      "jupyterlab-server==1.2.0\n",
      "kiwisolver==1.3.1\n",
      "MarkupSafe==1.1.1\n",
      "matplotlib==3.3.3\n",
      "mistune==0.8.4\n",
      "nbclient @ file:///private/tmp/jupyterlab--nbclient-20201109-55879-lnbpit/nbclient-0.5.1\n",
      "nbconvert==6.0.7\n",
      "nbformat==5.0.8\n",
      "nest-asyncio @ file:///private/tmp/jupyterlab--nest-asyncio-20201109-55879-a8jmv8/nest_asyncio-1.4.1\n",
      "networkx==2.5\n",
      "notebook==6.1.5\n",
      "numpy==1.19.4\n",
      "packaging==20.4\n",
      "pandas==1.1.5\n",
      "pandocfilters==1.4.3\n",
      "parso==0.7.1\n",
      "pexpect==4.8.0\n",
      "pickleshare==0.7.5\n",
      "Pillow==8.0.1\n",
      "prometheus-client==0.8.0\n",
      "prompt-toolkit @ file:///private/tmp/jupyterlab--prompt-toolkit-20201109-55879-ww0tih/prompt_toolkit-3.0.8\n",
      "ptyprocess @ file:///private/tmp/jupyterlab--ptyprocess-20201109-55879-1ggt2d4/ptyprocess-0.6.0\n",
      "pycparser==2.20\n",
      "Pygments==2.7.2\n",
      "pyparsing==2.4.7\n",
      "pyrsistent==0.17.3\n",
      "python-dateutil @ file:///private/tmp/jupyterlab--python-dateutil-20201109-55879-2j4euu/python-dateutil-2.8.1\n",
      "python-louvain==0.14\n",
      "pytz==2020.4\n",
      "pyzmq==19.0.2\n",
      "requests==2.24.0\n",
      "Send2Trash==1.5.0\n",
      "six==1.15.0\n",
      "terminado @ file:///private/tmp/jupyterlab--terminado-20201109-55879-sy6pq/terminado-0.9.1\n",
      "testpath @ file:///private/tmp/jupyterlab--testpath-20201109-55879-9zgct7/testpath-0.4.4\n",
      "tornado==6.0.4\n",
      "traitlets @ file:///private/tmp/jupyterlab--traitlets-20201109-55879-472rll/traitlets-5.0.5\n",
      "urllib3==1.25.11\n",
      "wcwidth==0.2.5\n",
      "webencodings==0.5.1\n",
      "Note: you may need to restart the kernel to use updated packages.\n"
     ]
    }
   ],
   "source": [
    "pip freeze < requirements.txt"
   ]
  },
  {
   "cell_type": "code",
   "execution_count": null,
   "metadata": {},
   "outputs": [],
   "source": []
  }
 ],
 "metadata": {
  "kernelspec": {
   "display_name": "Python 3",
   "language": "python",
   "name": "python3"
  },
  "language_info": {
   "codemirror_mode": {
    "name": "ipython",
    "version": 3
   },
   "file_extension": ".py",
   "mimetype": "text/x-python",
   "name": "python",
   "nbconvert_exporter": "python",
   "pygments_lexer": "ipython3",
   "version": "3.9.0"
  }
 },
 "nbformat": 4,
 "nbformat_minor": 4
}
