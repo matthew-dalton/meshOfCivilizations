{
 "cells": [
  {
   "cell_type": "code",
   "execution_count": 1,
   "metadata": {
    "collapsed": true,
    "jupyter": {
     "outputs_hidden": true
    }
   },
   "outputs": [
    {
     "name": "stdout",
     "output_type": "stream",
     "text": [
      "Requirement already satisfied: appnope==0.1.0 in /usr/local/Cellar/jupyterlab/2.2.9_1/libexec/lib/python3.9/site-packages (from -r requirements.txt (line 1)) (0.1.0)\n",
      "Requirement already satisfied: argon2-cffi@ file:///private/tmp/jupyterlab--argon2-cffi-20201109-55879-fd1k0d/argon2-cffi-20.1.0 from file:///private/tmp/jupyterlab--argon2-cffi-20201109-55879-fd1k0d/argon2-cffi-20.1.0 in /usr/local/Cellar/jupyterlab/2.2.9_1/libexec/lib/python3.9/site-packages (from -r requirements.txt (line 2)) (20.1.0)\n",
      "Requirement already satisfied: async-generator==1.10 in /usr/local/Cellar/jupyterlab/2.2.9_1/libexec/lib/python3.9/site-packages (from -r requirements.txt (line 3)) (1.10)\n",
      "Requirement already satisfied: attrs@ file:///private/tmp/jupyterlab--attrs-20201109-55879-ioob7p/attrs-20.2.0 from file:///private/tmp/jupyterlab--attrs-20201109-55879-ioob7p/attrs-20.2.0 in /usr/local/Cellar/jupyterlab/2.2.9_1/libexec/lib/python3.9/site-packages (from -r requirements.txt (line 4)) (20.2.0)\n",
      "Requirement already satisfied: backcall@ file:///private/tmp/jupyterlab--backcall-20201109-55879-dexhah/backcall-0.2.0 from file:///private/tmp/jupyterlab--backcall-20201109-55879-dexhah/backcall-0.2.0 in /usr/local/Cellar/jupyterlab/2.2.9_1/libexec/lib/python3.9/site-packages (from -r requirements.txt (line 5)) (0.2.0)\n",
      "Requirement already satisfied: bleach==3.2.1 in /usr/local/Cellar/jupyterlab/2.2.9_1/libexec/lib/python3.9/site-packages (from -r requirements.txt (line 6)) (3.2.1)\n",
      "Requirement already satisfied: certifi==2020.6.20 in /usr/local/Cellar/jupyterlab/2.2.9_1/libexec/lib/python3.9/site-packages (from -r requirements.txt (line 7)) (2020.6.20)\n",
      "Requirement already satisfied: cffi==1.14.3 in /usr/local/Cellar/jupyterlab/2.2.9_1/libexec/lib/python3.9/site-packages (from -r requirements.txt (line 8)) (1.14.3)\n",
      "Requirement already satisfied: chardet==3.0.4 in /usr/local/Cellar/jupyterlab/2.2.9_1/libexec/lib/python3.9/site-packages (from -r requirements.txt (line 9)) (3.0.4)\n",
      "Requirement already satisfied: cycler==0.10.0 in /usr/local/Cellar/jupyterlab/2.2.9_1/libexec/lib/python3.9/site-packages (from -r requirements.txt (line 10)) (0.10.0)\n",
      "Requirement already satisfied: decorator==4.4.2 in /usr/local/Cellar/jupyterlab/2.2.9_1/libexec/lib/python3.9/site-packages (from -r requirements.txt (line 11)) (4.4.2)\n",
      "Requirement already satisfied: defusedxml==0.6.0 in /usr/local/Cellar/jupyterlab/2.2.9_1/libexec/lib/python3.9/site-packages (from -r requirements.txt (line 12)) (0.6.0)\n",
      "Requirement already satisfied: entrypoints@ file:///private/tmp/jupyterlab--entrypoints-20201109-55879-a6xx2g/entrypoints-0.3 from file:///private/tmp/jupyterlab--entrypoints-20201109-55879-a6xx2g/entrypoints-0.3 in /usr/local/Cellar/jupyterlab/2.2.9_1/libexec/lib/python3.9/site-packages (from -r requirements.txt (line 13)) (0.3)\n",
      "Requirement already satisfied: idna==2.10 in /usr/local/Cellar/jupyterlab/2.2.9_1/libexec/lib/python3.9/site-packages (from -r requirements.txt (line 14)) (2.10)\n",
      "Requirement already satisfied: ipykernel==5.3.4 in /usr/local/Cellar/jupyterlab/2.2.9_1/libexec/lib/python3.9/site-packages (from -r requirements.txt (line 15)) (5.3.4)\n",
      "Requirement already satisfied: ipython==7.18.1 in /usr/local/Cellar/jupyterlab/2.2.9_1/libexec/lib/python3.9/site-packages (from -r requirements.txt (line 16)) (7.18.1)\n",
      "Requirement already satisfied: ipython-genutils==0.2.0 in /usr/local/Cellar/jupyterlab/2.2.9_1/libexec/lib/python3.9/site-packages (from -r requirements.txt (line 17)) (0.2.0)\n",
      "Requirement already satisfied: jedi==0.17.2 in /usr/local/Cellar/jupyterlab/2.2.9_1/libexec/lib/python3.9/site-packages (from -r requirements.txt (line 18)) (0.17.2)\n",
      "Requirement already satisfied: Jinja2==2.11.2 in /usr/local/Cellar/jupyterlab/2.2.9_1/libexec/lib/python3.9/site-packages (from -r requirements.txt (line 19)) (2.11.2)\n",
      "Requirement already satisfied: json5==0.9.5 in /usr/local/Cellar/jupyterlab/2.2.9_1/libexec/lib/python3.9/site-packages (from -r requirements.txt (line 20)) (0.9.5)\n",
      "Requirement already satisfied: jsonschema@ file:///private/tmp/jupyterlab--jsonschema-20201109-55879-1ojfg5c/jsonschema-3.2.0 from file:///private/tmp/jupyterlab--jsonschema-20201109-55879-1ojfg5c/jsonschema-3.2.0 in /usr/local/Cellar/jupyterlab/2.2.9_1/libexec/lib/python3.9/site-packages (from -r requirements.txt (line 21)) (3.2.0)\n",
      "Requirement already satisfied: jupyter-client==6.1.7 in /usr/local/Cellar/jupyterlab/2.2.9_1/libexec/lib/python3.9/site-packages (from -r requirements.txt (line 22)) (6.1.7)\n",
      "Requirement already satisfied: jupyter-console==6.2.0 in /usr/local/Cellar/jupyterlab/2.2.9_1/libexec/lib/python3.9/site-packages (from -r requirements.txt (line 23)) (6.2.0)\n",
      "Requirement already satisfied: jupyter-core==4.6.3 in /usr/local/Cellar/jupyterlab/2.2.9_1/libexec/lib/python3.9/site-packages (from -r requirements.txt (line 24)) (4.6.3)\n",
      "Requirement already satisfied: jupyterlab==2.2.9 in /usr/local/Cellar/jupyterlab/2.2.9_1/libexec/lib/python3.9/site-packages (from -r requirements.txt (line 25)) (2.2.9)\n",
      "Requirement already satisfied: jupyterlab-pygments==0.1.2 in /usr/local/Cellar/jupyterlab/2.2.9_1/libexec/lib/python3.9/site-packages (from -r requirements.txt (line 26)) (0.1.2)\n",
      "Requirement already satisfied: jupyterlab-server==1.2.0 in /usr/local/Cellar/jupyterlab/2.2.9_1/libexec/lib/python3.9/site-packages (from -r requirements.txt (line 27)) (1.2.0)\n",
      "Requirement already satisfied: kiwisolver==1.3.1 in /usr/local/Cellar/jupyterlab/2.2.9_1/libexec/lib/python3.9/site-packages (from -r requirements.txt (line 28)) (1.3.1)\n",
      "Requirement already satisfied: MarkupSafe==1.1.1 in /usr/local/Cellar/jupyterlab/2.2.9_1/libexec/lib/python3.9/site-packages (from -r requirements.txt (line 29)) (1.1.1)\n",
      "Requirement already satisfied: matplotlib==3.3.3 in /usr/local/Cellar/jupyterlab/2.2.9_1/libexec/lib/python3.9/site-packages (from -r requirements.txt (line 30)) (3.3.3)\n",
      "Requirement already satisfied: mistune==0.8.4 in /usr/local/Cellar/jupyterlab/2.2.9_1/libexec/lib/python3.9/site-packages (from -r requirements.txt (line 31)) (0.8.4)\n",
      "Requirement already satisfied: nbclient@ file:///private/tmp/jupyterlab--nbclient-20201109-55879-lnbpit/nbclient-0.5.1 from file:///private/tmp/jupyterlab--nbclient-20201109-55879-lnbpit/nbclient-0.5.1 in /usr/local/Cellar/jupyterlab/2.2.9_1/libexec/lib/python3.9/site-packages (from -r requirements.txt (line 32)) (0.5.1)\n",
      "Requirement already satisfied: nbconvert==6.0.7 in /usr/local/Cellar/jupyterlab/2.2.9_1/libexec/lib/python3.9/site-packages (from -r requirements.txt (line 33)) (6.0.7)\n",
      "Requirement already satisfied: nbformat==5.0.8 in /usr/local/Cellar/jupyterlab/2.2.9_1/libexec/lib/python3.9/site-packages (from -r requirements.txt (line 34)) (5.0.8)\n",
      "Requirement already satisfied: nest-asyncio@ file:///private/tmp/jupyterlab--nest-asyncio-20201109-55879-a8jmv8/nest_asyncio-1.4.1 from file:///private/tmp/jupyterlab--nest-asyncio-20201109-55879-a8jmv8/nest_asyncio-1.4.1 in /usr/local/Cellar/jupyterlab/2.2.9_1/libexec/lib/python3.9/site-packages (from -r requirements.txt (line 35)) (1.4.1)\n",
      "Requirement already satisfied: networkx==2.5 in /usr/local/Cellar/jupyterlab/2.2.9_1/libexec/lib/python3.9/site-packages (from -r requirements.txt (line 36)) (2.5)\n",
      "Requirement already satisfied: notebook==6.1.5 in /usr/local/Cellar/jupyterlab/2.2.9_1/libexec/lib/python3.9/site-packages (from -r requirements.txt (line 37)) (6.1.5)\n",
      "Requirement already satisfied: numpy==1.19.4 in /usr/local/Cellar/jupyterlab/2.2.9_1/libexec/lib/python3.9/site-packages (from -r requirements.txt (line 38)) (1.19.4)\n",
      "Requirement already satisfied: packaging==20.4 in /usr/local/Cellar/jupyterlab/2.2.9_1/libexec/lib/python3.9/site-packages (from -r requirements.txt (line 39)) (20.4)\n",
      "Requirement already satisfied: pandas==1.1.5 in /usr/local/Cellar/jupyterlab/2.2.9_1/libexec/lib/python3.9/site-packages (from -r requirements.txt (line 40)) (1.1.5)\n",
      "Requirement already satisfied: pandocfilters==1.4.3 in /usr/local/Cellar/jupyterlab/2.2.9_1/libexec/lib/python3.9/site-packages (from -r requirements.txt (line 41)) (1.4.3)\n",
      "Requirement already satisfied: parso==0.7.1 in /usr/local/Cellar/jupyterlab/2.2.9_1/libexec/lib/python3.9/site-packages (from -r requirements.txt (line 42)) (0.7.1)\n",
      "Requirement already satisfied: pexpect==4.8.0 in /usr/local/Cellar/jupyterlab/2.2.9_1/libexec/lib/python3.9/site-packages (from -r requirements.txt (line 43)) (4.8.0)\n",
      "Requirement already satisfied: pickleshare==0.7.5 in /usr/local/Cellar/jupyterlab/2.2.9_1/libexec/lib/python3.9/site-packages (from -r requirements.txt (line 44)) (0.7.5)\n",
      "Requirement already satisfied: Pillow==8.0.1 in /usr/local/Cellar/jupyterlab/2.2.9_1/libexec/lib/python3.9/site-packages (from -r requirements.txt (line 45)) (8.0.1)\n",
      "Requirement already satisfied: prometheus-client==0.8.0 in /usr/local/Cellar/jupyterlab/2.2.9_1/libexec/lib/python3.9/site-packages (from -r requirements.txt (line 46)) (0.8.0)\n",
      "Requirement already satisfied: prompt-toolkit@ file:///private/tmp/jupyterlab--prompt-toolkit-20201109-55879-ww0tih/prompt_toolkit-3.0.8 from file:///private/tmp/jupyterlab--prompt-toolkit-20201109-55879-ww0tih/prompt_toolkit-3.0.8 in /usr/local/Cellar/jupyterlab/2.2.9_1/libexec/lib/python3.9/site-packages (from -r requirements.txt (line 47)) (3.0.8)\n",
      "Requirement already satisfied: ptyprocess@ file:///private/tmp/jupyterlab--ptyprocess-20201109-55879-1ggt2d4/ptyprocess-0.6.0 from file:///private/tmp/jupyterlab--ptyprocess-20201109-55879-1ggt2d4/ptyprocess-0.6.0 in /usr/local/Cellar/jupyterlab/2.2.9_1/libexec/lib/python3.9/site-packages (from -r requirements.txt (line 48)) (0.6.0)\n",
      "Requirement already satisfied: pycparser==2.20 in /usr/local/Cellar/jupyterlab/2.2.9_1/libexec/lib/python3.9/site-packages (from -r requirements.txt (line 49)) (2.20)\n",
      "Requirement already satisfied: Pygments==2.7.2 in /usr/local/Cellar/jupyterlab/2.2.9_1/libexec/lib/python3.9/site-packages (from -r requirements.txt (line 50)) (2.7.2)\n",
      "Requirement already satisfied: pyparsing==2.4.7 in /usr/local/Cellar/jupyterlab/2.2.9_1/libexec/lib/python3.9/site-packages (from -r requirements.txt (line 51)) (2.4.7)\n",
      "Requirement already satisfied: pyrsistent==0.17.3 in /usr/local/Cellar/jupyterlab/2.2.9_1/libexec/lib/python3.9/site-packages (from -r requirements.txt (line 52)) (0.17.3)\n",
      "Requirement already satisfied: python-dateutil@ file:///private/tmp/jupyterlab--python-dateutil-20201109-55879-2j4euu/python-dateutil-2.8.1 from file:///private/tmp/jupyterlab--python-dateutil-20201109-55879-2j4euu/python-dateutil-2.8.1 in /usr/local/Cellar/jupyterlab/2.2.9_1/libexec/lib/python3.9/site-packages (from -r requirements.txt (line 53)) (2.8.1)\n",
      "Requirement already satisfied: python-louvain==0.14 in /usr/local/Cellar/jupyterlab/2.2.9_1/libexec/lib/python3.9/site-packages (from -r requirements.txt (line 54)) (0.14)\n",
      "Requirement already satisfied: pytz==2020.4 in /usr/local/Cellar/jupyterlab/2.2.9_1/libexec/lib/python3.9/site-packages (from -r requirements.txt (line 55)) (2020.4)\n",
      "Requirement already satisfied: pyzmq==19.0.2 in /usr/local/Cellar/jupyterlab/2.2.9_1/libexec/lib/python3.9/site-packages (from -r requirements.txt (line 56)) (19.0.2)\n",
      "Requirement already satisfied: requests==2.24.0 in /usr/local/Cellar/jupyterlab/2.2.9_1/libexec/lib/python3.9/site-packages (from -r requirements.txt (line 57)) (2.24.0)\n",
      "Requirement already satisfied: Send2Trash==1.5.0 in /usr/local/Cellar/jupyterlab/2.2.9_1/libexec/lib/python3.9/site-packages (from -r requirements.txt (line 58)) (1.5.0)\n",
      "Requirement already satisfied: six==1.15.0 in /usr/local/Cellar/jupyterlab/2.2.9_1/libexec/lib/python3.9/site-packages (from -r requirements.txt (line 59)) (1.15.0)\n",
      "Requirement already satisfied: terminado@ file:///private/tmp/jupyterlab--terminado-20201109-55879-sy6pq/terminado-0.9.1 from file:///private/tmp/jupyterlab--terminado-20201109-55879-sy6pq/terminado-0.9.1 in /usr/local/Cellar/jupyterlab/2.2.9_1/libexec/lib/python3.9/site-packages (from -r requirements.txt (line 60)) (0.9.1)\n",
      "Requirement already satisfied: testpath@ file:///private/tmp/jupyterlab--testpath-20201109-55879-9zgct7/testpath-0.4.4 from file:///private/tmp/jupyterlab--testpath-20201109-55879-9zgct7/testpath-0.4.4 in /usr/local/Cellar/jupyterlab/2.2.9_1/libexec/lib/python3.9/site-packages (from -r requirements.txt (line 61)) (0.4.4)\n",
      "Requirement already satisfied: tornado==6.0.4 in /usr/local/Cellar/jupyterlab/2.2.9_1/libexec/lib/python3.9/site-packages (from -r requirements.txt (line 62)) (6.0.4)\n",
      "Requirement already satisfied: traitlets@ file:///private/tmp/jupyterlab--traitlets-20201109-55879-472rll/traitlets-5.0.5 from file:///private/tmp/jupyterlab--traitlets-20201109-55879-472rll/traitlets-5.0.5 in /usr/local/Cellar/jupyterlab/2.2.9_1/libexec/lib/python3.9/site-packages (from -r requirements.txt (line 63)) (5.0.5)\n",
      "Requirement already satisfied: urllib3==1.25.11 in /usr/local/Cellar/jupyterlab/2.2.9_1/libexec/lib/python3.9/site-packages (from -r requirements.txt (line 64)) (1.25.11)\n",
      "Requirement already satisfied: wcwidth==0.2.5 in /usr/local/Cellar/jupyterlab/2.2.9_1/libexec/lib/python3.9/site-packages (from -r requirements.txt (line 65)) (0.2.5)\n",
      "Requirement already satisfied: webencodings==0.5.1 in /usr/local/Cellar/jupyterlab/2.2.9_1/libexec/lib/python3.9/site-packages (from -r requirements.txt (line 66)) (0.5.1)\n",
      "Requirement already satisfied: setuptools>=18.5 in /usr/local/Cellar/jupyterlab/2.2.9_1/libexec/lib/python3.9/site-packages (from ipython==7.18.1->-r requirements.txt (line 16)) (50.3.2)\n",
      "\u001b[33mWARNING: You are using pip version 20.2.4; however, version 20.3.1 is available.\n",
      "You should consider upgrading via the '/usr/local/Cellar/jupyterlab/2.2.9_1/libexec/bin/python -m pip install --upgrade pip' command.\u001b[0m\n",
      "Note: you may need to restart the kernel to use updated packages.\n"
     ]
    }
   ],
   "source": [
    "pip install -r requirements.txt"
   ]
  },
  {
   "cell_type": "code",
   "execution_count": 2,
   "metadata": {
    "collapsed": true,
    "jupyter": {
     "outputs_hidden": true
    }
   },
   "outputs": [
    {
     "name": "stdout",
     "output_type": "stream",
     "text": [
      "Requirement already satisfied: python-igraph in /usr/local/Cellar/jupyterlab/2.2.9_1/libexec/lib/python3.9/site-packages (0.8.3)\n",
      "Requirement already satisfied: texttable>=1.6.2 in /usr/local/Cellar/jupyterlab/2.2.9_1/libexec/lib/python3.9/site-packages (from python-igraph) (1.6.3)\n",
      "\u001b[33mWARNING: You are using pip version 20.2.4; however, version 20.3.1 is available.\n",
      "You should consider upgrading via the '/usr/local/Cellar/jupyterlab/2.2.9_1/libexec/bin/python -m pip install --upgrade pip' command.\u001b[0m\n",
      "Note: you may need to restart the kernel to use updated packages.\n"
     ]
    }
   ],
   "source": [
    "pip install python-igraph"
   ]
  },
  {
   "cell_type": "code",
   "execution_count": 21,
   "metadata": {},
   "outputs": [],
   "source": [
    "from igraph import Graph\n",
    "import math\n",
    "import numpy as np\n",
    "import pandas as pd\n",
    "import networkx as nx\n",
    "import community as louvain_community\n",
    "import matplotlib.pyplot as plt\n",
    "import matplotlib.cm as cm\n",
    "%matplotlib inline"
   ]
  },
  {
   "cell_type": "code",
   "execution_count": 105,
   "metadata": {},
   "outputs": [],
   "source": [
    "codes = pd.read_csv('data/codes.csv')\n",
    "df = pd.read_csv('data/dij_joint_civ.csv')\n",
    "df['positive_Dij'] = [pow(math.e,d) for d in df['D_ij']]\n",
    "#codes.set_index('Code', inplace=True)"
   ]
  },
  {
   "cell_type": "code",
   "execution_count": 106,
   "metadata": {},
   "outputs": [],
   "source": [
    "def build_graph(pos=True, r=5):\n",
    "    G = nx.Graph()\n",
    "    G.add_nodes_from(set(df['i']))\n",
    "    for i, row in df.iterrows():\n",
    "        if pos:\n",
    "            G.add_edge(row['i'], row['j'], weight=round(math.e**row['D_ij'], r))\n",
    "        else:\n",
    "            G.add_edge(row['i'], row['j'], weight=row['D_ij'])\n",
    "    return G\n",
    "\n",
    "G = build_graph(r=2)"
   ]
  },
  {
   "cell_type": "code",
   "execution_count": 107,
   "metadata": {},
   "outputs": [],
   "source": [
    "codes = codes[(codes['Code'].isin(set(df['i']))) | (codes['Code'].isin(set(df['j'])))]\n",
    "codes.set_index('Code', inplace=True)"
   ]
  },
  {
   "cell_type": "code",
   "execution_count": 110,
   "metadata": {},
   "outputs": [
    {
     "name": "stdout",
     "output_type": "stream",
     "text": [
      "0.09\n"
     ]
    }
   ],
   "source": [
    "print(G['RU']['UA']['weight'])"
   ]
  },
  {
   "cell_type": "code",
   "execution_count": 43,
   "metadata": {},
   "outputs": [],
   "source": [
    "# This is jokes\n",
    "\n",
    "## Goals: Write a function that takes in a graph and partition method and returns said partition\n",
    "\n",
    "def country_community_detection(G, detect, verbose=True):\n",
    "    \"\"\"\n",
    "    Performs community detection based on specified algorithm:\n",
    "    G: Either a weighted igraph Graph or a weighted nx Graph\n",
    "    detect: \n",
    "        - 'fg' == fastgreedy()\n",
    "        - 'le' == leading_eigenvector()\n",
    "        - 'ld' == leiden()\n",
    "        - 'sg' == spinglass()\n",
    "    vebose: default True, if True will print steps and final groups.\n",
    "    \"\"\"\n",
    "    if isinstance(G, nx.classes.graph.Graph):\n",
    "        G = Graph.from_networkx(G)\n",
    "        if verbose:\n",
    "            print('Converting to network to igraph format.')\n",
    "    if detect == 'fg':\n",
    "        groups = G.community_fastgreedy()\n",
    "        if verbose:\n",
    "            print('Performed the fastgreedy algorithm')\n",
    "    elif detect == 'le':\n",
    "        groups = G.community_leading_eigenvector()\n",
    "        if verbose:\n",
    "            print('Performed the leading eigenvector algorithm')\n",
    "    elif detect == 'ld':\n",
    "        groups = G.community_leiden()\n",
    "        if verbose:\n",
    "            print('Performed the leiden algorithm')\n",
    "    elif detect == 'ml':\n",
    "        groups = G.community_multilevel()\n",
    "        if verbose:\n",
    "            print('Performed the louvain (multilevel) algorithm')\n",
    "    elif detect == 'sg':\n",
    "        groups = G.community_spinglass()\n",
    "        if verbose:\n",
    "            print('Performed the spinglass algorithm')\n",
    "    else:\n",
    "        raise Exception('Community detection algorithm specified incorrectly.')\n",
    "    nx_groups = [nx.from_edgelist([(names[x[0]], names[x[1]])\n",
    "                      for names in [g.vs['_nx_name']] # simply a let\n",
    "                      for x in g.get_edgelist()], nx.DiGraph()) for g in groups.subgraphs()]\n",
    "    if verbose:\n",
    "        for i, g in enumerate(nx_groups):\n",
    "            countries = []\n",
    "            for k, v in g.edges():\n",
    "                countries.append(codes.loc[k]['Name'])\n",
    "            print('Countries in community ' + str(i) + ':')\n",
    "            print(set(countries))\n",
    "    \n",
    "    return nx_groups"
   ]
  },
  {
   "cell_type": "code",
   "execution_count": 44,
   "metadata": {},
   "outputs": [
    {
     "name": "stdout",
     "output_type": "stream",
     "text": [
      "Converting to network to igraph format.\n",
      "Performed the spinglass algorithm\n",
      "Countries in community 0:\n",
      "{'Ecuador', 'South Africa', 'Canada', 'Albania', 'Madagascar', 'Mexico', 'Mauritania', 'Denmark', 'Norway', 'Malaysia', 'Mauritius', 'Belgium', 'Bangladesh', 'Guatemala', 'Spain', 'Panama', 'Turkey', 'Moldova, Republic of', 'El Salvador', 'Kenya', 'Burundi', 'Macedonia, the Former Yugoslav Republic of', 'Netherlands', 'Mali', 'Indonesia', 'Yemen', \"Lao People's Democratic Republic\", 'Trinidad and Tobago', 'Malta', 'Bahamas', 'Haiti', 'Pakistan', 'Singapore', 'Bosnia and Herzegovina', 'Guyana', 'Croatia', 'Sudan', 'Bermuda', 'Switzerland', 'Uganda', 'Cayman Islands', 'Mozambique', 'Venezuela, Bolivarian Republic of', 'Nepal', \"CÃ´te d'Ivoire\", 'Gabon', 'Czech Republic', 'Austria', 'Algeria', 'Cyprus', 'Gambia', 'Peru', 'Hungary', 'Saint Vincent and the Grenadines', 'Iceland', 'Jamaica', 'New Zealand', 'Ireland', 'Korea, Republic of', 'Luxembourg', 'Thailand', 'Belarus', 'Qatar', 'Greece', 'Oman', 'United Kingdom', 'Russian Federation', 'Chile', 'Belize', 'Nigeria', 'Saudi Arabia', 'Japan', 'Armenia', 'Mongolia', 'China', 'Egypt', 'Cambodia', 'Lithuania', 'Sweden', 'Botswana', 'Brazil', 'Dominican Republic', 'Finland', 'Ukraine', 'Uzbekistan', 'French Polynesia', 'Honduras', 'Slovakia', 'Viet Nam', 'Australia', 'Liberia', 'Argentina', 'Bhutan', 'Macao', 'Zambia', 'Northern Mariana Islands', 'Georgia', 'Estonia', 'Ghana', 'Colombia', 'Paraguay', 'Kuwait', 'United States', 'Jordan', 'Bulgaria', 'Hong Kong', 'Tunisia', 'Italy', 'Comoros', 'Azerbaijan', 'Morocco', 'Ethiopia', 'Tanzania, United Republic of', 'Cameroon', 'Angola', 'Nicaragua', 'Senegal', 'Barbados', 'Costa Rica', 'Lebanon', 'Latvia', 'Philippines', 'Fiji', 'Sri Lanka', 'Brunei Darussalam', 'Guam', 'India', 'Virgin Islands, U.S.', 'New Caledonia', 'Burkina Faso', 'Papua New Guinea', 'United Arab Emirates', 'Poland', 'American Samoa', 'Kazakhstan', 'Aruba', 'Germany', 'Montenegro', 'Uruguay', 'Slovenia', 'France', 'Bolivia, Plurinational State of', 'Saint Lucia', 'Suriname', 'Israel', 'Portugal'}\n"
     ]
    },
    {
     "data": {
      "text/plain": [
       "[<networkx.classes.digraph.DiGraph at 0x123d2f910>]"
      ]
     },
     "execution_count": 44,
     "metadata": {},
     "output_type": "execute_result"
    }
   ],
   "source": [
    "#country_community_detection(G_pos, 'sg')"
   ]
  },
  {
   "cell_type": "code",
   "execution_count": 82,
   "metadata": {},
   "outputs": [],
   "source": [
    "weight_partition = louvain_community.best_partition(G_pos)"
   ]
  },
  {
   "cell_type": "code",
   "execution_count": 83,
   "metadata": {},
   "outputs": [],
   "source": [
    "groups = [[] for num in weight_partition.values()]\n",
    "for k, v in weight_partition.items():\n",
    "    groups[v].append(codes.loc[k]['Name'])\n"
   ]
  },
  {
   "cell_type": "code",
   "execution_count": 84,
   "metadata": {
    "collapsed": true,
    "jupyter": {
     "outputs_hidden": true
    }
   },
   "outputs": [
    {
     "name": "stdout",
     "output_type": "stream",
     "text": [
      "Countries in groups 0:\n",
      "Countries in groups 1:\n",
      "Countries in groups 2:\n",
      "Countries in groups 3:\n",
      "Countries in groups 4:\n",
      "Countries in groups 5:\n",
      "Countries in groups 6:\n",
      "Countries in groups 7:\n",
      "Countries in groups 8:\n",
      "Countries in groups 9:\n",
      "Countries in groups 10:\n",
      "Countries in groups 11:\n",
      "Countries in groups 12:\n",
      "Countries in groups 13:\n",
      "Countries in groups 14:\n",
      "Countries in groups 15:\n",
      "Countries in groups 16:\n",
      "Countries in groups 17:\n",
      "Countries in groups 18:\n",
      "Countries in groups 19:\n",
      "Countries in groups 20:\n",
      "Countries in groups 21:\n",
      "Countries in groups 22:\n",
      "Countries in groups 23:\n",
      "Countries in groups 24:\n",
      "Countries in groups 25:\n",
      "Countries in groups 26:\n",
      "Countries in groups 27:\n",
      "Countries in groups 28:\n",
      "Countries in groups 29:\n",
      "Countries in groups 30:\n",
      "Countries in groups 31:\n",
      "Countries in groups 32:\n",
      "Countries in groups 33:\n",
      "Countries in groups 34:\n",
      "Countries in groups 35:\n",
      "Countries in groups 36:\n",
      "Countries in groups 37:\n",
      "Countries in groups 38:\n",
      "Countries in groups 39:\n",
      "Countries in groups 40:\n",
      "Countries in groups 41:\n",
      "Countries in groups 42:\n",
      "Countries in groups 43:\n",
      "Countries in groups 44:\n",
      "Countries in groups 45:\n",
      "Countries in groups 46:\n",
      "Countries in groups 47:\n",
      "Countries in groups 48:\n",
      "Countries in groups 49:\n",
      "Countries in groups 50:\n",
      "Countries in groups 51:\n",
      "Countries in groups 52:\n",
      "Countries in groups 53:\n",
      "Countries in groups 54:\n",
      "Countries in groups 55:\n",
      "Countries in groups 56:\n",
      "Countries in groups 57:\n",
      "Countries in groups 58:\n",
      "Countries in groups 59:\n",
      "Countries in groups 60:\n",
      "Countries in groups 61:\n",
      "Countries in groups 62:\n",
      "Countries in groups 63:\n",
      "Countries in groups 64:\n",
      "Countries in groups 65:\n",
      "Countries in groups 66:\n",
      "Countries in groups 67:\n",
      "Countries in groups 68:\n",
      "Countries in groups 69:\n",
      "Countries in groups 70:\n",
      "Countries in groups 71:\n",
      "Countries in groups 72:\n",
      "Countries in groups 73:\n",
      "Countries in groups 74:\n",
      "Countries in groups 75:\n",
      "Countries in groups 76:\n",
      "Countries in groups 77:\n",
      "Countries in groups 78:\n",
      "Countries in groups 79:\n",
      "Countries in groups 80:\n",
      "Countries in groups 81:\n",
      "Countries in groups 82:\n",
      "Countries in groups 83:\n",
      "Countries in groups 84:\n",
      "Countries in groups 85:\n",
      "Countries in groups 86:\n",
      "Countries in groups 87:\n",
      "Countries in groups 88:\n",
      "Countries in groups 89:\n",
      "Countries in groups 90:\n",
      "Countries in groups 91:\n",
      "Countries in groups 92:\n",
      "Countries in groups 93:\n",
      "Countries in groups 94:\n",
      "Countries in groups 95:\n",
      "Countries in groups 96:\n",
      "Countries in groups 97:\n",
      "Countries in groups 98:\n",
      "Countries in groups 99:\n",
      "Countries in groups 100:\n",
      "Countries in groups 101:\n",
      "Countries in groups 102:\n",
      "Countries in groups 103:\n",
      "Countries in groups 104:\n",
      "Countries in groups 105:\n",
      "Countries in groups 106:\n",
      "Countries in groups 107:\n",
      "Countries in groups 108:\n",
      "Countries in groups 109:\n",
      "Countries in groups 110:\n",
      "Countries in groups 111:\n",
      "Countries in groups 112:\n",
      "Countries in groups 113:\n",
      "Countries in groups 114:\n",
      "Countries in groups 115:\n",
      "Countries in groups 116:\n",
      "Countries in groups 117:\n",
      "Countries in groups 118:\n",
      "Countries in groups 119:\n",
      "Countries in groups 120:\n",
      "Countries in groups 121:\n",
      "Countries in groups 122:\n",
      "Countries in groups 123:\n",
      "Countries in groups 124:\n",
      "Countries in groups 125:\n",
      "Countries in groups 126:\n",
      "Countries in groups 127:\n",
      "Countries in groups 128:\n",
      "Countries in groups 129:\n",
      "Countries in groups 130:\n",
      "Countries in groups 131:\n",
      "Countries in groups 132:\n",
      "Countries in groups 133:\n",
      "Countries in groups 134:\n",
      "Countries in groups 135:\n",
      "Countries in groups 136:\n",
      "Countries in groups 137:\n",
      "Countries in groups 138:\n",
      "Countries in groups 139:\n",
      "Countries in groups 140:\n",
      "Countries in groups 141:\n",
      "Countries in groups 142:\n",
      "Countries in groups 143:\n",
      "Countries in groups 144:\n",
      "Countries in groups 145:\n",
      "Countries in groups 146:\n"
     ]
    }
   ],
   "source": [
    "for i, g in enumerate(groups):\n",
    "    print('Countries in groups ' + str(i) + ':')"
   ]
  },
  {
   "cell_type": "code",
   "execution_count": 85,
   "metadata": {},
   "outputs": [],
   "source": [
    "def __neighcom(node, graph, status, weight_key):\n",
    "    \"\"\"\n",
    "    Compute the communities in the neighborhood of node in the graph given\n",
    "    with the decomposition node2com\n",
    "    \"\"\"\n",
    "    weights = {}\n",
    "    for neighbor, datas in graph[node].items():\n",
    "        if neighbor != node:\n",
    "            edge_weight = datas.get(weight_key, 1)\n",
    "            neighborcom = status.node2com[neighbor]\n",
    "            weights[neighborcom] = weights.get(neighborcom, 0) + edge_weight\n",
    "\n",
    "    return weights"
   ]
  },
  {
   "cell_type": "code",
   "execution_count": 86,
   "metadata": {},
   "outputs": [
    {
     "ename": "AttributeError",
     "evalue": "'str' object has no attribute 'node2com'",
     "output_type": "error",
     "traceback": [
      "\u001b[0;31m---------------------------------------------------------------------------\u001b[0m",
      "\u001b[0;31mAttributeError\u001b[0m                            Traceback (most recent call last)",
      "\u001b[0;32m<ipython-input-86-d243613cf166>\u001b[0m in \u001b[0;36m<module>\u001b[0;34m\u001b[0m\n\u001b[0;32m----> 1\u001b[0;31m \u001b[0m__neighcom\u001b[0m\u001b[0;34m(\u001b[0m\u001b[0;34m'AM'\u001b[0m\u001b[0;34m,\u001b[0m \u001b[0mG_pos\u001b[0m\u001b[0;34m,\u001b[0m \u001b[0;34m''\u001b[0m\u001b[0;34m,\u001b[0m \u001b[0;34m'weight'\u001b[0m\u001b[0;34m)\u001b[0m\u001b[0;34m\u001b[0m\u001b[0;34m\u001b[0m\u001b[0m\n\u001b[0m",
      "\u001b[0;32m<ipython-input-85-7a1b0fcce675>\u001b[0m in \u001b[0;36m__neighcom\u001b[0;34m(node, graph, status, weight_key)\u001b[0m\n\u001b[1;32m      8\u001b[0m         \u001b[0;32mif\u001b[0m \u001b[0mneighbor\u001b[0m \u001b[0;34m!=\u001b[0m \u001b[0mnode\u001b[0m\u001b[0;34m:\u001b[0m\u001b[0;34m\u001b[0m\u001b[0;34m\u001b[0m\u001b[0m\n\u001b[1;32m      9\u001b[0m             \u001b[0medge_weight\u001b[0m \u001b[0;34m=\u001b[0m \u001b[0mdatas\u001b[0m\u001b[0;34m.\u001b[0m\u001b[0mget\u001b[0m\u001b[0;34m(\u001b[0m\u001b[0mweight_key\u001b[0m\u001b[0;34m,\u001b[0m \u001b[0;36m1\u001b[0m\u001b[0;34m)\u001b[0m\u001b[0;34m\u001b[0m\u001b[0;34m\u001b[0m\u001b[0m\n\u001b[0;32m---> 10\u001b[0;31m             \u001b[0mneighborcom\u001b[0m \u001b[0;34m=\u001b[0m \u001b[0mstatus\u001b[0m\u001b[0;34m.\u001b[0m\u001b[0mnode2com\u001b[0m\u001b[0;34m[\u001b[0m\u001b[0mneighbor\u001b[0m\u001b[0;34m]\u001b[0m\u001b[0;34m\u001b[0m\u001b[0;34m\u001b[0m\u001b[0m\n\u001b[0m\u001b[1;32m     11\u001b[0m             \u001b[0mweights\u001b[0m\u001b[0;34m[\u001b[0m\u001b[0mneighborcom\u001b[0m\u001b[0;34m]\u001b[0m \u001b[0;34m=\u001b[0m \u001b[0mweights\u001b[0m\u001b[0;34m.\u001b[0m\u001b[0mget\u001b[0m\u001b[0;34m(\u001b[0m\u001b[0mneighborcom\u001b[0m\u001b[0;34m,\u001b[0m \u001b[0;36m0\u001b[0m\u001b[0;34m)\u001b[0m \u001b[0;34m+\u001b[0m \u001b[0medge_weight\u001b[0m\u001b[0;34m\u001b[0m\u001b[0;34m\u001b[0m\u001b[0m\n\u001b[1;32m     12\u001b[0m \u001b[0;34m\u001b[0m\u001b[0m\n",
      "\u001b[0;31mAttributeError\u001b[0m: 'str' object has no attribute 'node2com'"
     ]
    }
   ],
   "source": [
    "__neighcom('AM', G_pos, '', 'weight')"
   ]
  },
  {
   "cell_type": "code",
   "execution_count": 92,
   "metadata": {},
   "outputs": [],
   "source": [
    "G = Graph()\n",
    "G.add_vertices(list(set(df['i'])) + ['ZW'])\n",
    "for i, row in df.iterrows():\n",
    "    G.add_edge(row['i'], row['j'], weight=row['positive_Dij'])"
   ]
  },
  {
   "cell_type": "code",
   "execution_count": 94,
   "metadata": {},
   "outputs": [],
   "source": [
    "from igraph import ARPACKOptions\n",
    "\n",
    "partition = G.community_multilevel(weights='weight') # arpack_options=ARPACKOptions(max_iter=10000))\n",
    "groups = {}\n",
    "for i, g in enumerate(partition.subgraphs()):\n",
    "    for n in g.vs['name']:\n",
    "        groups[n] = i\n",
    "    "
   ]
  },
  {
   "cell_type": "code",
   "execution_count": 95,
   "metadata": {},
   "outputs": [],
   "source": [
    "codes['ml'] = 0"
   ]
  },
  {
   "cell_type": "code",
   "execution_count": 96,
   "metadata": {},
   "outputs": [],
   "source": [
    "#codes.set_index('Code', inplace=True)\n",
    "for k, v in groups.items():\n",
    "    codes.loc[k, 'ml'] = v"
   ]
  },
  {
   "cell_type": "code",
   "execution_count": 97,
   "metadata": {},
   "outputs": [
    {
     "data": {
      "text/html": [
       "<div>\n",
       "<style scoped>\n",
       "    .dataframe tbody tr th:only-of-type {\n",
       "        vertical-align: middle;\n",
       "    }\n",
       "\n",
       "    .dataframe tbody tr th {\n",
       "        vertical-align: top;\n",
       "    }\n",
       "\n",
       "    .dataframe thead th {\n",
       "        text-align: right;\n",
       "    }\n",
       "</style>\n",
       "<table border=\"1\" class=\"dataframe\">\n",
       "  <thead>\n",
       "    <tr style=\"text-align: right;\">\n",
       "      <th></th>\n",
       "      <th>Name</th>\n",
       "      <th>le</th>\n",
       "      <th>inverse_le</th>\n",
       "      <th>ml</th>\n",
       "    </tr>\n",
       "    <tr>\n",
       "      <th>Code</th>\n",
       "      <th></th>\n",
       "      <th></th>\n",
       "      <th></th>\n",
       "      <th></th>\n",
       "    </tr>\n",
       "  </thead>\n",
       "  <tbody>\n",
       "    <tr>\n",
       "      <th>AL</th>\n",
       "      <td>Albania</td>\n",
       "      <td>6.0</td>\n",
       "      <td>1</td>\n",
       "      <td>2</td>\n",
       "    </tr>\n",
       "    <tr>\n",
       "      <th>DZ</th>\n",
       "      <td>Algeria</td>\n",
       "      <td>13.0</td>\n",
       "      <td>2</td>\n",
       "      <td>5</td>\n",
       "    </tr>\n",
       "    <tr>\n",
       "      <th>AS</th>\n",
       "      <td>American Samoa</td>\n",
       "      <td>0.0</td>\n",
       "      <td>0</td>\n",
       "      <td>5</td>\n",
       "    </tr>\n",
       "    <tr>\n",
       "      <th>AO</th>\n",
       "      <td>Angola</td>\n",
       "      <td>2.0</td>\n",
       "      <td>1</td>\n",
       "      <td>1</td>\n",
       "    </tr>\n",
       "    <tr>\n",
       "      <th>AR</th>\n",
       "      <td>Argentina</td>\n",
       "      <td>4.0</td>\n",
       "      <td>0</td>\n",
       "      <td>2</td>\n",
       "    </tr>\n",
       "    <tr>\n",
       "      <th>AM</th>\n",
       "      <td>Armenia</td>\n",
       "      <td>0.0</td>\n",
       "      <td>0</td>\n",
       "      <td>7</td>\n",
       "    </tr>\n",
       "    <tr>\n",
       "      <th>AW</th>\n",
       "      <td>Aruba</td>\n",
       "      <td>7.0</td>\n",
       "      <td>1</td>\n",
       "      <td>9</td>\n",
       "    </tr>\n",
       "    <tr>\n",
       "      <th>AU</th>\n",
       "      <td>Australia</td>\n",
       "      <td>15.0</td>\n",
       "      <td>3</td>\n",
       "      <td>5</td>\n",
       "    </tr>\n",
       "    <tr>\n",
       "      <th>AT</th>\n",
       "      <td>Austria</td>\n",
       "      <td>20.0</td>\n",
       "      <td>0</td>\n",
       "      <td>11</td>\n",
       "    </tr>\n",
       "    <tr>\n",
       "      <th>AZ</th>\n",
       "      <td>Azerbaijan</td>\n",
       "      <td>7.0</td>\n",
       "      <td>1</td>\n",
       "      <td>2</td>\n",
       "    </tr>\n",
       "  </tbody>\n",
       "</table>\n",
       "</div>"
      ],
      "text/plain": [
       "                Name    le  inverse_le  ml\n",
       "Code                                      \n",
       "AL           Albania   6.0           1   2\n",
       "DZ           Algeria  13.0           2   5\n",
       "AS    American Samoa   0.0           0   5\n",
       "AO            Angola   2.0           1   1\n",
       "AR         Argentina   4.0           0   2\n",
       "AM           Armenia   0.0           0   7\n",
       "AW             Aruba   7.0           1   9\n",
       "AU         Australia  15.0           3   5\n",
       "AT           Austria  20.0           0  11\n",
       "AZ        Azerbaijan   7.0           1   2"
      ]
     },
     "execution_count": 97,
     "metadata": {},
     "output_type": "execute_result"
    }
   ],
   "source": [
    "codes.head(10)"
   ]
  },
  {
   "cell_type": "code",
   "execution_count": 82,
   "metadata": {},
   "outputs": [],
   "source": [
    "codes.to_csv('leading_eigenvector_codes.csv')"
   ]
  },
  {
   "cell_type": "code",
   "execution_count": 103,
   "metadata": {},
   "outputs": [
    {
     "data": {
      "text/html": [
       "<div>\n",
       "<style scoped>\n",
       "    .dataframe tbody tr th:only-of-type {\n",
       "        vertical-align: middle;\n",
       "    }\n",
       "\n",
       "    .dataframe tbody tr th {\n",
       "        vertical-align: top;\n",
       "    }\n",
       "\n",
       "    .dataframe thead th {\n",
       "        text-align: right;\n",
       "    }\n",
       "</style>\n",
       "<table border=\"1\" class=\"dataframe\">\n",
       "  <thead>\n",
       "    <tr style=\"text-align: right;\">\n",
       "      <th></th>\n",
       "      <th>Name</th>\n",
       "      <th>le</th>\n",
       "      <th>inverse_le</th>\n",
       "      <th>ml</th>\n",
       "    </tr>\n",
       "    <tr>\n",
       "      <th>Code</th>\n",
       "      <th></th>\n",
       "      <th></th>\n",
       "      <th></th>\n",
       "      <th></th>\n",
       "    </tr>\n",
       "  </thead>\n",
       "  <tbody>\n",
       "    <tr>\n",
       "      <th>KY</th>\n",
       "      <td>Cayman Islands</td>\n",
       "      <td>0.0</td>\n",
       "      <td>0</td>\n",
       "      <td>3</td>\n",
       "    </tr>\n",
       "    <tr>\n",
       "      <th>LR</th>\n",
       "      <td>Liberia</td>\n",
       "      <td>0.0</td>\n",
       "      <td>0</td>\n",
       "      <td>3</td>\n",
       "    </tr>\n",
       "    <tr>\n",
       "      <th>MD</th>\n",
       "      <td>Moldova, Republic of</td>\n",
       "      <td>0.0</td>\n",
       "      <td>1</td>\n",
       "      <td>3</td>\n",
       "    </tr>\n",
       "    <tr>\n",
       "      <th>PY</th>\n",
       "      <td>Paraguay</td>\n",
       "      <td>0.0</td>\n",
       "      <td>1</td>\n",
       "      <td>3</td>\n",
       "    </tr>\n",
       "    <tr>\n",
       "      <th>QA</th>\n",
       "      <td>Qatar</td>\n",
       "      <td>0.0</td>\n",
       "      <td>2</td>\n",
       "      <td>3</td>\n",
       "    </tr>\n",
       "    <tr>\n",
       "      <th>SI</th>\n",
       "      <td>Slovenia</td>\n",
       "      <td>0.0</td>\n",
       "      <td>0</td>\n",
       "      <td>3</td>\n",
       "    </tr>\n",
       "    <tr>\n",
       "      <th>TN</th>\n",
       "      <td>Tunisia</td>\n",
       "      <td>0.0</td>\n",
       "      <td>0</td>\n",
       "      <td>3</td>\n",
       "    </tr>\n",
       "    <tr>\n",
       "      <th>VN</th>\n",
       "      <td>Viet Nam</td>\n",
       "      <td>0.0</td>\n",
       "      <td>1</td>\n",
       "      <td>3</td>\n",
       "    </tr>\n",
       "    <tr>\n",
       "      <th>ZM</th>\n",
       "      <td>Zambia</td>\n",
       "      <td>3.0</td>\n",
       "      <td>1</td>\n",
       "      <td>3</td>\n",
       "    </tr>\n",
       "  </tbody>\n",
       "</table>\n",
       "</div>"
      ],
      "text/plain": [
       "                      Name   le  inverse_le  ml\n",
       "Code                                           \n",
       "KY          Cayman Islands  0.0           0   3\n",
       "LR                 Liberia  0.0           0   3\n",
       "MD    Moldova, Republic of  0.0           1   3\n",
       "PY                Paraguay  0.0           1   3\n",
       "QA                   Qatar  0.0           2   3\n",
       "SI                Slovenia  0.0           0   3\n",
       "TN                 Tunisia  0.0           0   3\n",
       "VN                Viet Nam  0.0           1   3\n",
       "ZM                  Zambia  3.0           1   3"
      ]
     },
     "execution_count": 103,
     "metadata": {},
     "output_type": "execute_result"
    }
   ],
   "source": [
    "codes[codes['ml'] == 3]"
   ]
  },
  {
   "cell_type": "code",
   "execution_count": 102,
   "metadata": {},
   "outputs": [
    {
     "ename": "KeyError",
     "evalue": "'Attribute does not exist'",
     "output_type": "error",
     "traceback": [
      "\u001b[0;31m---------------------------------------------------------------------------\u001b[0m",
      "\u001b[0;31mKeyError\u001b[0m                                  Traceback (most recent call last)",
      "\u001b[0;32m<ipython-input-102-04f055e220b8>\u001b[0m in \u001b[0;36m<module>\u001b[0;34m\u001b[0m\n\u001b[0;32m----> 1\u001b[0;31m \u001b[0mG\u001b[0m\u001b[0;34m[\u001b[0m\u001b[0;34m'RU'\u001b[0m\u001b[0;34m]\u001b[0m\u001b[0;34m[\u001b[0m\u001b[0;34m'UA'\u001b[0m\u001b[0;34m]\u001b[0m\u001b[0;34m[\u001b[0m\u001b[0;34m'weight'\u001b[0m\u001b[0;34m]\u001b[0m\u001b[0;34m\u001b[0m\u001b[0;34m\u001b[0m\u001b[0m\n\u001b[0m",
      "\u001b[0;31mKeyError\u001b[0m: 'Attribute does not exist'"
     ]
    }
   ],
   "source": []
  },
  {
   "cell_type": "code",
   "execution_count": null,
   "metadata": {},
   "outputs": [],
   "source": []
  }
 ],
 "metadata": {
  "kernelspec": {
   "display_name": "Python 3",
   "language": "python",
   "name": "python3"
  },
  "language_info": {
   "codemirror_mode": {
    "name": "ipython",
    "version": 3
   },
   "file_extension": ".py",
   "mimetype": "text/x-python",
   "name": "python",
   "nbconvert_exporter": "python",
   "pygments_lexer": "ipython3",
   "version": "3.9.0"
  }
 },
 "nbformat": 4,
 "nbformat_minor": 4
}
